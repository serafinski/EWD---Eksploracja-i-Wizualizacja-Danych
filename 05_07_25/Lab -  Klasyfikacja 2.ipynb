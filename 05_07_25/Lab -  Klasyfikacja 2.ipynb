{
 "cells": [
  {
   "cell_type": "markdown",
   "id": "9010855a",
   "metadata": {},
   "source": [
    "# Lab - Klasyfikacja 2\n",
    "\n",
    "## Zadania\n",
    "1. Wczytaj zbiór danych `adult.csv`. Zbadaj dane, a następnie przygotuj je do modelowania.  \n",
    "   Zastosuj różne modele klasyfikacyjne do przewidywania grupy dochodów (`<=50K`/`>50K`) i wybierz odpowiednie hiperparametry. Upewnij się, że używasz odpowiednich metryk do oceny modeli. Możesz użyć zbioru walidacyjnego lub walidacji krzyżowej (zobacz: [`cross_validate`](https://scikit-learn.org/stable/modules/generated/sklearn.model_selection.cross_validate.html), [`cross_val_score`](https://scikit-learn.org/stable/modules/generated/sklearn.model_selection.cross_val_score.html), [`GridSearchCV`](https://scikit-learn.org/stable/modules/generated/sklearn.model_selection.GridSearchCV.html))"
   ]
  }
 ],
 "metadata": {
  "language_info": {
   "name": "python"
  }
 },
 "nbformat": 4,
 "nbformat_minor": 5
}
