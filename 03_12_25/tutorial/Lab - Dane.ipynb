{
 "cells": [
  {
   "cell_type": "markdown",
   "id": "c6818417-5e0e-4bab-828f-a4a1246c9c80",
   "metadata": {},
   "source": [
    "# Dane\n",
    "## Przykład - Wikipedia Pageview API\n",
    "Dokumentacja/przykłady użycia Wikipedia Pageview API podane są [tutaj](https://wikitech.wikimedia.org/wiki/Analytics/AQS/Pageviews).\n",
    "Zasady korzystania z API wymagają podania jako `User-Agent` np. swojego adresu e-mail.\n",
    "\n",
    "W następujący sposób można pobrać dzienną liczbę wyświetleń artykułu \"Albert Einstein\" w 2022 roku:"
   ]
  },
  {
   "cell_type": "code",
   "execution_count": null,
   "id": "addd383d-1a48-480c-a879-2e1d70aa0181",
   "metadata": {},
   "outputs": [
    {
     "name": "stdout",
     "output_type": "stream",
     "text": [
      "200\n",
      "https://wikimedia.org/api/rest_v1/metrics/pageviews/per-article/en.wikipedia/all-access/user/Albert_Einstein/daily/2022010100/2022123100\n"
     ]
    }
   ],
   "source": [
    "import requests\n",
    "import pandas as pd\n",
    "\n",
    "HEADERS = {\"User-Agent\": \"s24353@pja.edu.pl\"} # replace with your email if your run the example\n",
    "\n",
    "def wiki_article_views_daily(article, start_date, end_date):\n",
    "    url_base = \"https://wikimedia.org/api/rest_v1/metrics/pageviews/per-article/en.wikipedia/all-access/user/\"\n",
    "    url = url_base + f\"{article}/daily/{start_date}/{end_date}\"\n",
    "        \n",
    "    r = requests.get(url, headers=HEADERS)\n",
    "    \n",
    "    return r\n",
    "\n",
    "article = \"Albert_Einstein\"\n",
    "start_date=\"2022010100\"\n",
    "end_date=\"2022123100\"\n",
    "r = wiki_article_views_daily(article, start_date, end_date)\n",
    "\n",
    "print(r.status_code)\n",
    "print(r.url)"
   ]
  },
  {
   "cell_type": "code",
   "execution_count": 2,
   "id": "8eb5f419-cced-40ae-9270-4a6126335d01",
   "metadata": {},
   "outputs": [
    {
     "data": {
      "text/html": [
       "<div>\n",
       "<style scoped>\n",
       "    .dataframe tbody tr th:only-of-type {\n",
       "        vertical-align: middle;\n",
       "    }\n",
       "\n",
       "    .dataframe tbody tr th {\n",
       "        vertical-align: top;\n",
       "    }\n",
       "\n",
       "    .dataframe thead th {\n",
       "        text-align: right;\n",
       "    }\n",
       "</style>\n",
       "<table border=\"1\" class=\"dataframe\">\n",
       "  <thead>\n",
       "    <tr style=\"text-align: right;\">\n",
       "      <th></th>\n",
       "      <th>project</th>\n",
       "      <th>article</th>\n",
       "      <th>granularity</th>\n",
       "      <th>timestamp</th>\n",
       "      <th>access</th>\n",
       "      <th>agent</th>\n",
       "      <th>views</th>\n",
       "    </tr>\n",
       "  </thead>\n",
       "  <tbody>\n",
       "    <tr>\n",
       "      <th>0</th>\n",
       "      <td>en.wikipedia</td>\n",
       "      <td>Albert_Einstein</td>\n",
       "      <td>daily</td>\n",
       "      <td>2022010100</td>\n",
       "      <td>all-access</td>\n",
       "      <td>user</td>\n",
       "      <td>12509</td>\n",
       "    </tr>\n",
       "    <tr>\n",
       "      <th>1</th>\n",
       "      <td>en.wikipedia</td>\n",
       "      <td>Albert_Einstein</td>\n",
       "      <td>daily</td>\n",
       "      <td>2022010200</td>\n",
       "      <td>all-access</td>\n",
       "      <td>user</td>\n",
       "      <td>14416</td>\n",
       "    </tr>\n",
       "    <tr>\n",
       "      <th>2</th>\n",
       "      <td>en.wikipedia</td>\n",
       "      <td>Albert_Einstein</td>\n",
       "      <td>daily</td>\n",
       "      <td>2022010300</td>\n",
       "      <td>all-access</td>\n",
       "      <td>user</td>\n",
       "      <td>14579</td>\n",
       "    </tr>\n",
       "    <tr>\n",
       "      <th>3</th>\n",
       "      <td>en.wikipedia</td>\n",
       "      <td>Albert_Einstein</td>\n",
       "      <td>daily</td>\n",
       "      <td>2022010400</td>\n",
       "      <td>all-access</td>\n",
       "      <td>user</td>\n",
       "      <td>14891</td>\n",
       "    </tr>\n",
       "    <tr>\n",
       "      <th>4</th>\n",
       "      <td>en.wikipedia</td>\n",
       "      <td>Albert_Einstein</td>\n",
       "      <td>daily</td>\n",
       "      <td>2022010500</td>\n",
       "      <td>all-access</td>\n",
       "      <td>user</td>\n",
       "      <td>14902</td>\n",
       "    </tr>\n",
       "  </tbody>\n",
       "</table>\n",
       "</div>"
      ],
      "text/plain": [
       "        project          article granularity   timestamp      access agent  \\\n",
       "0  en.wikipedia  Albert_Einstein       daily  2022010100  all-access  user   \n",
       "1  en.wikipedia  Albert_Einstein       daily  2022010200  all-access  user   \n",
       "2  en.wikipedia  Albert_Einstein       daily  2022010300  all-access  user   \n",
       "3  en.wikipedia  Albert_Einstein       daily  2022010400  all-access  user   \n",
       "4  en.wikipedia  Albert_Einstein       daily  2022010500  all-access  user   \n",
       "\n",
       "   views  \n",
       "0  12509  \n",
       "1  14416  \n",
       "2  14579  \n",
       "3  14891  \n",
       "4  14902  "
      ]
     },
     "execution_count": 2,
     "metadata": {},
     "output_type": "execute_result"
    }
   ],
   "source": [
    "df = pd.DataFrame(r.json()['items'])\n",
    "df.head()"
   ]
  },
  {
   "cell_type": "code",
   "execution_count": 3,
   "id": "f3dbcab4-4a0f-4803-b117-c0317907e778",
   "metadata": {},
   "outputs": [
    {
     "data": {
      "text/html": [
       "<div>\n",
       "<style scoped>\n",
       "    .dataframe tbody tr th:only-of-type {\n",
       "        vertical-align: middle;\n",
       "    }\n",
       "\n",
       "    .dataframe tbody tr th {\n",
       "        vertical-align: top;\n",
       "    }\n",
       "\n",
       "    .dataframe thead th {\n",
       "        text-align: right;\n",
       "    }\n",
       "</style>\n",
       "<table border=\"1\" class=\"dataframe\">\n",
       "  <thead>\n",
       "    <tr style=\"text-align: right;\">\n",
       "      <th></th>\n",
       "      <th>article</th>\n",
       "      <th>views</th>\n",
       "    </tr>\n",
       "    <tr>\n",
       "      <th>date</th>\n",
       "      <th></th>\n",
       "      <th></th>\n",
       "    </tr>\n",
       "  </thead>\n",
       "  <tbody>\n",
       "    <tr>\n",
       "      <th>2022-01-01</th>\n",
       "      <td>Albert_Einstein</td>\n",
       "      <td>12509</td>\n",
       "    </tr>\n",
       "    <tr>\n",
       "      <th>2022-01-02</th>\n",
       "      <td>Albert_Einstein</td>\n",
       "      <td>14416</td>\n",
       "    </tr>\n",
       "    <tr>\n",
       "      <th>2022-01-03</th>\n",
       "      <td>Albert_Einstein</td>\n",
       "      <td>14579</td>\n",
       "    </tr>\n",
       "    <tr>\n",
       "      <th>2022-01-04</th>\n",
       "      <td>Albert_Einstein</td>\n",
       "      <td>14891</td>\n",
       "    </tr>\n",
       "    <tr>\n",
       "      <th>2022-01-05</th>\n",
       "      <td>Albert_Einstein</td>\n",
       "      <td>14902</td>\n",
       "    </tr>\n",
       "  </tbody>\n",
       "</table>\n",
       "</div>"
      ],
      "text/plain": [
       "                    article  views\n",
       "date                              \n",
       "2022-01-01  Albert_Einstein  12509\n",
       "2022-01-02  Albert_Einstein  14416\n",
       "2022-01-03  Albert_Einstein  14579\n",
       "2022-01-04  Albert_Einstein  14891\n",
       "2022-01-05  Albert_Einstein  14902"
      ]
     },
     "execution_count": 3,
     "metadata": {},
     "output_type": "execute_result"
    }
   ],
   "source": [
    "df['date'] = pd.to_datetime(df.timestamp, format='%Y%m%d00')\n",
    "df = df[['date', 'article', 'views']].set_index('date')\n",
    "df.head()"
   ]
  },
  {
   "cell_type": "code",
   "execution_count": 4,
   "id": "b4d97157-3971-4065-949a-dec8bd84c347",
   "metadata": {},
   "outputs": [
    {
     "data": {
      "text/plain": [
       "Text(0, 0.5, 'Views')"
      ]
     },
     "execution_count": 4,
     "metadata": {},
     "output_type": "execute_result"
    },
    {
     "data": {
      "image/png": "[encoded data removed]",
      "text/plain": [
       "<Figure size 640x480 with 1 Axes>"
      ]
     },
     "metadata": {},
     "output_type": "display_data"
    }
   ],
   "source": [
    "import matplotlib.pyplot as plt\n",
    "plt.plot(df.index, df.views)\n",
    "plt.title('\"Albert Einstein\" Wikipedia Article Views - 2022')\n",
    "plt.xlabel('Date')\n",
    "plt.ylabel('Views')"
   ]
  },
  {
   "cell_type": "markdown",
   "id": "baf2000e-6967-4ff6-948e-1e3abc0d5a69",
   "metadata": {},
   "source": [
    "### Parametry URL\n",
    "Możemy dodać parametry do URL podając `params` w metodzie `requests.get()`:"
   ]
  },
  {
   "cell_type": "code",
   "execution_count": 5,
   "id": "aec4a292-97d4-40a5-ad82-6848a1bcd22c",
   "metadata": {},
   "outputs": [
    {
     "name": "stdout",
     "output_type": "stream",
     "text": [
      "http://example.com/example?key1=val1&key2=22\n"
     ]
    }
   ],
   "source": [
    "params = {'key1': 'val1', 'key2': 22}\n",
    "r = requests.get(\"http://example.com/example\", params=params)\n",
    "print(r.url)"
   ]
  },
  {
   "cell_type": "markdown",
   "id": "b43ea146-8431-43e5-b07f-a5141e449819",
   "metadata": {},
   "source": [
    "## Zadania\n",
    "\n",
    "1. Wybierz dowolny zbiór danych z [UCI Machine Learning Repository](https://archive.ics.uci.edu/ml/index.php). Pobierz plik i wczytaj go do `DataFrame`.\n",
    "    - Upewnij się, że wszystkie kolumny mają odpowiednie nazwy.\n",
    "    - Tam, gdzie potrzeba, ustaw odpowiedni typ danych. Przydatne metody: [`pd.to_datetime()`](https://pandas.pydata.org/docs/reference/api/pandas.to_datetime.html), [`astype()`](https://pandas.pydata.org/docs/reference/api/pandas.DataFrame.astype.html).\n",
    "    - Jeśli jedna z kolumn jest naturalnym indeksem, ustaw ją jako indeks.\n",
    "2. Strona https://open-meteo.com udostępnia API pozwalające pobierać historyczne dane pogodowe. Znajdź na stronie dokumentację API, a następnie:\n",
    "    - Stwórz procedurę, która otrzyma współrzędne geograficzne (latitude, longitude) i zakres dat, a następnie pobierze dane pogodowe z API.\n",
    "    - Umieść pobrane dane w `DataFrame`. Upewnij się, że wszystkie kolumny mają odpowiednie nazwy i typ danych. Ustaw daty jako indeks.\n",
    "    - Opcjonalnie: wykorzystaj Geocoding API (np. https://nominatim.org/ udostępniany przez OpenStreetMap), aby automatycznie pobrać współrzędne geograficzne dla podanej lokalizacji. \n",
    "3. Wikipedia Pageview API pozwala pobrać listę najczęściej wyświetlanych artykułów. Sprawdź w dokumentacji jak to zrobić, a następnie:\n",
    "    - Znajdź 10 najczęściej wyświetlanych artykułów z `en.wikipedia.org` w styczniu 2022. Uwaga: na liście znajdą się też strony specjalne, np. `Main_Page`. Należy je manualnie odfiltrować.\n",
    "    - Następnie dla każdego z nich pobierz liczbę wyświetleń dla każdego dnia w 2022. Umieść wszystkie dane w `DataFrame`.\n",
    "4. Zbiór danych w pliku `censusData-with3errors` zawiera trzy dodane celowo błędy. Znajdź je."
   ]
  }
 ],
 "metadata": {
  "kernelspec": {
   "display_name": "Python 3 (ipykernel)",
   "language": "python",
   "name": "python3"
  },
  "language_info": {
   "codemirror_mode": {
    "name": "ipython",
    "version": 3
   },
   "file_extension": ".py",
   "mimetype": "text/x-python",
   "name": "python",
   "nbconvert_exporter": "python",
   "pygments_lexer": "ipython3",
   "version": "3.11.5"
  }
 },
 "nbformat": 4,
 "nbformat_minor": 5
}
