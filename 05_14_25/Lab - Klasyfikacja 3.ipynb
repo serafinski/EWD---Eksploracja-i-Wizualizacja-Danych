{
 "cells": [
  {
   "cell_type": "markdown",
   "id": "254574a6",
   "metadata": {},
   "source": [
    "# Lab - Klasyfikacja 3\n",
    "\n",
    "## Zadania\n",
    "1. Zbiór danych `spam.csv` zawiera przykłady wiadomości e-mail oznaczonych jako `spam` i `ham`. Zastosuj [`CountVectorizer`](https://scikit-learn.org/stable/modules/generated/sklearn.feature_extraction.text.CountVectorizer.html), aby wygenerować wektory częstości słów dla każdej wiadomości. Wytrenuj i porównaj kilka modeli klasyfikacyjnych, takich jak `MultinomialNB`, `KNeighborsClassifier`, `LogisticRegression` itp.\n",
    "\n",
    "2. Zbiór danych `IMDB` zawiera pozytywne i negatywne recenzje filmów. Zwektoryzuj teksty recenzji, a następnie użyj metody [`cross_validate`](https://scikit-learn.org/stable/modules/generated/sklearn.model_selection.cross_validate.html), aby porównać:\n",
    "    \n",
    "    - dokładność (accuracy) i f1-score,\n",
    "    - czas trenowania (fit time),\n",
    "    - czas testowania (score time)\n",
    "\n",
    "    wybranych modeli klasyfikacyjnych, w tym `MultinomialNB`, `KNeighborsClassifier` oraz `LogisticRegression`."
   ]
  },
  {
   "cell_type": "code",
   "execution_count": null,
   "id": "4fa1207a",
   "metadata": {
    "vscode": {
     "languageId": "plaintext"
    }
   },
   "outputs": [],
   "source": []
  }
 ],
 "metadata": {
  "language_info": {
   "name": "python"
  }
 },
 "nbformat": 4,
 "nbformat_minor": 5
}
