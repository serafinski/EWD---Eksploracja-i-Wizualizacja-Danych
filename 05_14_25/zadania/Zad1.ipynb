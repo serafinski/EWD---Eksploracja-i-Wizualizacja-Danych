{
 "cells": [
  {
   "cell_type": "markdown",
   "id": "a2c3b7cb",
   "metadata": {},
   "source": [
    "Zbiór danych `spam.csv` zawiera przykłady wiadomości e-mail oznaczonych jako `spam` i `ham`. Zastosuj [`CountVectorizer`](https://scikit-learn.org/stable/modules/generated/sklearn.feature_extraction.text.CountVectorizer.html), aby wygenerować wektory częstości słów dla każdej wiadomości. Wytrenuj i porównaj kilka modeli klasyfikacyjnych, takich jak `MultinomialNB`, `KNeighborsClassifier`, `LogisticRegression` itp."
   ]
  },
  {
   "cell_type": "code",
   "execution_count": 9,
   "id": "039a27f6",
   "metadata": {},
   "outputs": [],
   "source": [
    "import pandas as pd\n",
    "\n",
    "from sklearn.feature_extraction.text import CountVectorizer\n",
    "from sklearn.model_selection import train_test_split\n",
    "\n",
    "from sklearn.metrics import classification_report, confusion_matrix\n",
    "\n",
    "from sklearn.naive_bayes import MultinomialNB\n",
    "from sklearn.neighbors import KNeighborsClassifier\n",
    "from sklearn.linear_model import LogisticRegression"
   ]
  },
  {
   "cell_type": "code",
   "execution_count": 10,
   "id": "685ede3f",
   "metadata": {},
   "outputs": [
    {
     "data": {
      "application/vnd.microsoft.datawrangler.viewer.v0+json": {
       "columns": [
        {
         "name": "index",
         "rawType": "int64",
         "type": "integer"
        },
        {
         "name": "Category",
         "rawType": "object",
         "type": "string"
        },
        {
         "name": "Message",
         "rawType": "object",
         "type": "string"
        }
       ],
       "conversionMethod": "pd.DataFrame",
       "ref": "a256d439-7ae8-4ebd-97e0-ea6fb0ad182c",
       "rows": [
        [
         "0",
         "ham",
         "Go until jurong point, crazy.. Available only in bugis n great world la e buffet... Cine there got amore wat..."
        ],
        [
         "1",
         "ham",
         "Ok lar... Joking wif u oni..."
        ],
        [
         "2",
         "spam",
         "Free entry in 2 a wkly comp to win FA Cup final tkts 21st May 2005. Text FA to 87121 to receive entry question(std txt rate)T&C's apply 08452810075over18's"
        ],
        [
         "3",
         "ham",
         "U dun say so early hor... U c already then say..."
        ],
        [
         "4",
         "ham",
         "Nah I don't think he goes to usf, he lives around here though"
        ]
       ],
       "shape": {
        "columns": 2,
        "rows": 5
       }
      },
      "text/html": [
       "<div>\n",
       "<style scoped>\n",
       "    .dataframe tbody tr th:only-of-type {\n",
       "        vertical-align: middle;\n",
       "    }\n",
       "\n",
       "    .dataframe tbody tr th {\n",
       "        vertical-align: top;\n",
       "    }\n",
       "\n",
       "    .dataframe thead th {\n",
       "        text-align: right;\n",
       "    }\n",
       "</style>\n",
       "<table border=\"1\" class=\"dataframe\">\n",
       "  <thead>\n",
       "    <tr style=\"text-align: right;\">\n",
       "      <th></th>\n",
       "      <th>Category</th>\n",
       "      <th>Message</th>\n",
       "    </tr>\n",
       "  </thead>\n",
       "  <tbody>\n",
       "    <tr>\n",
       "      <th>0</th>\n",
       "      <td>ham</td>\n",
       "      <td>Go until jurong point, crazy.. Available only ...</td>\n",
       "    </tr>\n",
       "    <tr>\n",
       "      <th>1</th>\n",
       "      <td>ham</td>\n",
       "      <td>Ok lar... Joking wif u oni...</td>\n",
       "    </tr>\n",
       "    <tr>\n",
       "      <th>2</th>\n",
       "      <td>spam</td>\n",
       "      <td>Free entry in 2 a wkly comp to win FA Cup fina...</td>\n",
       "    </tr>\n",
       "    <tr>\n",
       "      <th>3</th>\n",
       "      <td>ham</td>\n",
       "      <td>U dun say so early hor... U c already then say...</td>\n",
       "    </tr>\n",
       "    <tr>\n",
       "      <th>4</th>\n",
       "      <td>ham</td>\n",
       "      <td>Nah I don't think he goes to usf, he lives aro...</td>\n",
       "    </tr>\n",
       "  </tbody>\n",
       "</table>\n",
       "</div>"
      ],
      "text/plain": [
       "  Category                                            Message\n",
       "0      ham  Go until jurong point, crazy.. Available only ...\n",
       "1      ham                      Ok lar... Joking wif u oni...\n",
       "2     spam  Free entry in 2 a wkly comp to win FA Cup fina...\n",
       "3      ham  U dun say so early hor... U c already then say...\n",
       "4      ham  Nah I don't think he goes to usf, he lives aro..."
      ]
     },
     "execution_count": 10,
     "metadata": {},
     "output_type": "execute_result"
    }
   ],
   "source": [
    "df = pd.read_csv(\"../data/spam.csv\")\n",
    "df.head()"
   ]
  },
  {
   "cell_type": "code",
   "execution_count": 11,
   "id": "6bbf1726",
   "metadata": {},
   "outputs": [
    {
     "name": "stdout",
     "output_type": "stream",
     "text": [
      "Category\n",
      "0    4825\n",
      "1     747\n",
      "Name: count, dtype: int64\n"
     ]
    }
   ],
   "source": [
    "y = df['Category'].map({'ham': 0, 'spam': 1})\n",
    "print(y.value_counts())"
   ]
  },
  {
   "cell_type": "code",
   "execution_count": 12,
   "id": "7a5490c8",
   "metadata": {},
   "outputs": [
    {
     "name": "stdout",
     "output_type": "stream",
     "text": [
      "df shape: (5572, 2)\n",
      "X shape: (5572, 8440)\n",
      "Vocabulary size: 8440\n"
     ]
    }
   ],
   "source": [
    "cv = CountVectorizer(stop_words=\"english\")\n",
    "X = cv.fit_transform(df['Message'])\n",
    "\n",
    "print(\"df shape:\", df.shape)\n",
    "print(\"X shape:\", X.shape)\n",
    "\n",
    "print(\"Vocabulary size:\", len(cv.vocabulary_))"
   ]
  },
  {
   "cell_type": "code",
   "execution_count": 13,
   "id": "96e8a4bd",
   "metadata": {},
   "outputs": [
    {
     "name": "stdout",
     "output_type": "stream",
     "text": [
      "[[0 0 0 ... 0 0 0]\n",
      " [0 0 0 ... 0 0 0]\n",
      " [0 0 0 ... 0 0 0]\n",
      " [0 0 0 ... 0 0 0]\n",
      " [0 0 0 ... 0 0 0]]\n"
     ]
    }
   ],
   "source": [
    "print(X[:5].toarray())"
   ]
  },
  {
   "cell_type": "code",
   "execution_count": 14,
   "id": "1707305e",
   "metadata": {},
   "outputs": [],
   "source": [
    "X_train, X_test, y_train, y_test = train_test_split(X, y, test_size=0.2, random_state=17, stratify=y)"
   ]
  },
  {
   "cell_type": "code",
   "execution_count": null,
   "id": "a8d491dd",
   "metadata": {},
   "outputs": [],
   "source": [
    "# Labels for confusion matrix\n",
    "# 'ham' (negative) -> index 0, 'spam' (positive) -> index 1\n",
    "labels_for_cm = [0, 1]\n",
    "target_names = ['ham', 'spam']"
   ]
  },
  {
   "cell_type": "markdown",
   "id": "cd87e2ff",
   "metadata": {},
   "source": [
    "### Multinomial Native Bayes (MultinomialNB)"
   ]
  },
  {
   "cell_type": "code",
   "execution_count": 16,
   "id": "5ba1fa55",
   "metadata": {},
   "outputs": [
    {
     "name": "stdout",
     "output_type": "stream",
     "text": [
      "Confusion Matrix:\n",
      "[[955  11]\n",
      " [ 10 139]]\n",
      "\n",
      "True Negatives (ham as ham): 955\n",
      "False Positives (ham as spam): 11\n",
      "False Negatives (spam as ham): 10\n",
      "True Positives (spam as spam:) 139\n",
      "####################\n",
      "              precision    recall  f1-score   support\n",
      "\n",
      "         ham       0.99      0.99      0.99       966\n",
      "        spam       0.93      0.93      0.93       149\n",
      "\n",
      "    accuracy                           0.98      1115\n",
      "   macro avg       0.96      0.96      0.96      1115\n",
      "weighted avg       0.98      0.98      0.98      1115\n",
      "\n"
     ]
    }
   ],
   "source": [
    "mnb = MultinomialNB()\n",
    "\n",
    "mnb.fit(X_train, y_train)\n",
    "\n",
    "y_pred = mnb.predict(X_test)\n",
    "\n",
    "cm = confusion_matrix(y_test, y_pred, labels=labels_for_cm)\n",
    "tn, fp, fn, tp = cm.ravel()\n",
    "\n",
    "print(\"Confusion Matrix:\")\n",
    "print(cm)\n",
    "print(\"\\nTrue Negatives (ham as ham):\", tn)\n",
    "print(\"False Positives (ham as spam):\", fp)\n",
    "print(\"False Negatives (spam as ham):\", fn)\n",
    "print(\"True Positives (spam as spam:)\", tp)\n",
    "\n",
    "print(\"#\" * 20)\n",
    "print(classification_report(y_test, y_pred, labels=labels_for_cm, target_names=target_names))"
   ]
  },
  {
   "cell_type": "markdown",
   "id": "0cb271c2",
   "metadata": {},
   "source": [
    "### K-Nearest Neighbors (KNN)"
   ]
  },
  {
   "cell_type": "code",
   "execution_count": 17,
   "id": "158db06b",
   "metadata": {},
   "outputs": [
    {
     "name": "stdout",
     "output_type": "stream",
     "text": [
      "Confusion Matrix:\n",
      "[[966   0]\n",
      " [101  48]]\n",
      "\n",
      "True Negatives (ham as ham): 966\n",
      "False Positives (ham as spam): 0\n",
      "False Negatives (spam as ham): 101\n",
      "True Positives (spam as spam:) 48\n",
      "####################\n",
      "              precision    recall  f1-score   support\n",
      "\n",
      "         ham       0.91      1.00      0.95       966\n",
      "        spam       1.00      0.32      0.49       149\n",
      "\n",
      "    accuracy                           0.91      1115\n",
      "   macro avg       0.95      0.66      0.72      1115\n",
      "weighted avg       0.92      0.91      0.89      1115\n",
      "\n"
     ]
    }
   ],
   "source": [
    "knn = KNeighborsClassifier(n_neighbors=5)\n",
    "\n",
    "knn.fit(X_train, y_train)\n",
    "\n",
    "y_pred = knn.predict(X_test)\n",
    "\n",
    "cm = confusion_matrix(y_test, y_pred, labels=labels_for_cm)\n",
    "tn, fp, fn, tp = cm.ravel()\n",
    "\n",
    "print(\"Confusion Matrix:\")\n",
    "print(cm)\n",
    "print(\"\\nTrue Negatives (ham as ham):\", tn)\n",
    "print(\"False Positives (ham as spam):\", fp)\n",
    "print(\"False Negatives (spam as ham):\", fn)\n",
    "print(\"True Positives (spam as spam:)\", tp)\n",
    "\n",
    "print(\"#\" * 20)\n",
    "print(classification_report(y_test, y_pred, labels=labels_for_cm, target_names=target_names))"
   ]
  },
  {
   "cell_type": "markdown",
   "id": "9c8fcac3",
   "metadata": {},
   "source": [
    "### Logistic Regression"
   ]
  },
  {
   "cell_type": "code",
   "execution_count": 18,
   "id": "7751afbb",
   "metadata": {},
   "outputs": [
    {
     "name": "stdout",
     "output_type": "stream",
     "text": [
      "Confusion Matrix:\n",
      "[[966   0]\n",
      " [ 21 128]]\n",
      "\n",
      "True Negatives (ham as ham): 966\n",
      "False Positives (ham as spam): 0\n",
      "False Negatives (spam as ham): 21\n",
      "True Positives (spam as spam:) 128\n",
      "####################\n",
      "              precision    recall  f1-score   support\n",
      "\n",
      "         ham       0.98      1.00      0.99       966\n",
      "        spam       1.00      0.86      0.92       149\n",
      "\n",
      "    accuracy                           0.98      1115\n",
      "   macro avg       0.99      0.93      0.96      1115\n",
      "weighted avg       0.98      0.98      0.98      1115\n",
      "\n"
     ]
    }
   ],
   "source": [
    "lr = LogisticRegression(max_iter=1000, solver='liblinear')\n",
    "\n",
    "lr.fit(X_train, y_train)\n",
    "\n",
    "y_pred = lr.predict(X_test)\n",
    "\n",
    "cm = confusion_matrix(y_test, y_pred, labels=labels_for_cm)\n",
    "tn, fp, fn, tp = cm.ravel()\n",
    "\n",
    "print(\"Confusion Matrix:\")\n",
    "print(cm)\n",
    "print(\"\\nTrue Negatives (ham as ham):\", tn)\n",
    "print(\"False Positives (ham as spam):\", fp)\n",
    "print(\"False Negatives (spam as ham):\", fn)\n",
    "print(\"True Positives (spam as spam:)\", tp)\n",
    "\n",
    "print(\"#\" * 20)\n",
    "print(classification_report(y_test, y_pred, labels=labels_for_cm, target_names=target_names))"
   ]
  }
 ],
 "metadata": {
  "kernelspec": {
   "display_name": ".venv",
   "language": "python",
   "name": "python3"
  },
  "language_info": {
   "codemirror_mode": {
    "name": "ipython",
    "version": 3
   },
   "file_extension": ".py",
   "mimetype": "text/x-python",
   "name": "python",
   "nbconvert_exporter": "python",
   "pygments_lexer": "ipython3",
   "version": "3.11.11"
  }
 },
 "nbformat": 4,
 "nbformat_minor": 5
}
