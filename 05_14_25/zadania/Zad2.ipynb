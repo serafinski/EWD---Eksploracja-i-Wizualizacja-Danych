{
 "cells": [
  {
   "cell_type": "markdown",
   "id": "dd1ec62f",
   "metadata": {},
   "source": [
    "Zbiór danych `IMDB` zawiera pozytywne i negatywne recenzje filmów. Zwektoryzuj teksty recenzji, a następnie użyj metody [`cross_validate`](https://scikit-learn.org/stable/modules/generated/sklearn.model_selection.cross_validate.html), aby porównać:\n",
    "    \n",
    "- dokładność (accuracy) i f1-score,\n",
    "- czas trenowania (fit time),\n",
    "- czas testowania (score time)\n",
    "\n",
    "wybranych modeli klasyfikacyjnych, w tym `MultinomialNB`, `KNeighborsClassifier` oraz `LogisticRegression`."
   ]
  },
  {
   "cell_type": "code",
   "execution_count": 14,
   "id": "4bfc359e",
   "metadata": {},
   "outputs": [],
   "source": [
    "import pandas as pd\n",
    "import numpy as np\n",
    "\n",
    "from sklearn.feature_extraction.text import CountVectorizer\n",
    "from sklearn.model_selection import cross_validate\n",
    "\n",
    "from sklearn.naive_bayes import MultinomialNB\n",
    "from sklearn.neighbors import KNeighborsClassifier\n",
    "from sklearn.linear_model import LogisticRegression"
   ]
  },
  {
   "cell_type": "code",
   "execution_count": 15,
   "id": "776627ef",
   "metadata": {},
   "outputs": [
    {
     "data": {
      "application/vnd.microsoft.datawrangler.viewer.v0+json": {
       "columns": [
        {
         "name": "index",
         "rawType": "int64",
         "type": "integer"
        },
        {
         "name": "review",
         "rawType": "object",
         "type": "string"
        },
        {
         "name": "sentiment",
         "rawType": "object",
         "type": "string"
        }
       ],
       "conversionMethod": "pd.DataFrame",
       "ref": "555dd67d-00ab-4614-a97f-7c9941812b20",
       "rows": [
        [
         "0",
         "One of the other reviewers has mentioned that after watching just 1 Oz episode you'll be hooked. They are right, as this is exactly what happened with me.<br /><br />The first thing that struck me about Oz was its brutality and unflinching scenes of violence, which set in right from the word GO. Trust me, this is not a show for the faint hearted or timid. This show pulls no punches with regards to drugs, sex or violence. Its is hardcore, in the classic use of the word.<br /><br />It is called OZ as that is the nickname given to the Oswald Maximum Security State Penitentary. It focuses mainly on Emerald City, an experimental section of the prison where all the cells have glass fronts and face inwards, so privacy is not high on the agenda. Em City is home to many..Aryans, Muslims, gangstas, Latinos, Christians, Italians, Irish and more....so scuffles, death stares, dodgy dealings and shady agreements are never far away.<br /><br />I would say the main appeal of the show is due to the fact that it goes where other shows wouldn't dare. Forget pretty pictures painted for mainstream audiences, forget charm, forget romance...OZ doesn't mess around. The first episode I ever saw struck me as so nasty it was surreal, I couldn't say I was ready for it, but as I watched more, I developed a taste for Oz, and got accustomed to the high levels of graphic violence. Not just violence, but injustice (crooked guards who'll be sold out for a nickel, inmates who'll kill on order and get away with it, well mannered, middle class inmates being turned into prison bitches due to their lack of street skills or prison experience) Watching Oz, you may become comfortable with what is uncomfortable viewing....thats if you can get in touch with your darker side.",
         "positive"
        ],
        [
         "1",
         "A wonderful little production. <br /><br />The filming technique is very unassuming- very old-time-BBC fashion and gives a comforting, and sometimes discomforting, sense of realism to the entire piece. <br /><br />The actors are extremely well chosen- Michael Sheen not only \"has got all the polari\" but he has all the voices down pat too! You can truly see the seamless editing guided by the references to Williams' diary entries, not only is it well worth the watching but it is a terrificly written and performed piece. A masterful production about one of the great master's of comedy and his life. <br /><br />The realism really comes home with the little things: the fantasy of the guard which, rather than use the traditional 'dream' techniques remains solid then disappears. It plays on our knowledge and our senses, particularly with the scenes concerning Orton and Halliwell and the sets (particularly of their flat with Halliwell's murals decorating every surface) are terribly well done.",
         "positive"
        ],
        [
         "2",
         "I thought this was a wonderful way to spend time on a too hot summer weekend, sitting in the air conditioned theater and watching a light-hearted comedy. The plot is simplistic, but the dialogue is witty and the characters are likable (even the well bread suspected serial killer). While some may be disappointed when they realize this is not Match Point 2: Risk Addiction, I thought it was proof that Woody Allen is still fully in control of the style many of us have grown to love.<br /><br />This was the most I'd laughed at one of Woody's comedies in years (dare I say a decade?). While I've never been impressed with Scarlet Johanson, in this she managed to tone down her \"sexy\" image and jumped right into a average, but spirited young woman.<br /><br />This may not be the crown jewel of his career, but it was wittier than \"Devil Wears Prada\" and more interesting than \"Superman\" a great comedy to go see with friends.",
         "positive"
        ],
        [
         "3",
         "Basically there's a family where a little boy (Jake) thinks there's a zombie in his closet & his parents are fighting all the time.<br /><br />This movie is slower than a soap opera... and suddenly, Jake decides to become Rambo and kill the zombie.<br /><br />OK, first of all when you're going to make a film you must Decide if its a thriller or a drama! As a drama the movie is watchable. Parents are divorcing & arguing like in real life. And then we have Jake with his closet which totally ruins all the film! I expected to see a BOOGEYMAN similar movie, and instead i watched a drama with some meaningless thriller spots.<br /><br />3 out of 10 just for the well playing parents & descent dialogs. As for the shots with Jake: just ignore them.",
         "negative"
        ],
        [
         "4",
         "Petter Mattei's \"Love in the Time of Money\" is a visually stunning film to watch. Mr. Mattei offers us a vivid portrait about human relations. This is a movie that seems to be telling us what money, power and success do to people in the different situations we encounter. <br /><br />This being a variation on the Arthur Schnitzler's play about the same theme, the director transfers the action to the present time New York where all these different characters meet and connect. Each one is connected in one way, or another to the next person, but no one seems to know the previous point of contact. Stylishly, the film has a sophisticated luxurious look. We are taken to see how these people live and the world they live in their own habitat.<br /><br />The only thing one gets out of all these souls in the picture is the different stages of loneliness each one inhabits. A big city is not exactly the best place in which human relations find sincere fulfillment, as one discerns is the case with most of the people we encounter.<br /><br />The acting is good under Mr. Mattei's direction. Steve Buscemi, Rosario Dawson, Carol Kane, Michael Imperioli, Adrian Grenier, and the rest of the talented cast, make these characters come alive.<br /><br />We wish Mr. Mattei good luck and await anxiously for his next work.",
         "positive"
        ]
       ],
       "shape": {
        "columns": 2,
        "rows": 5
       }
      },
      "text/html": [
       "<div>\n",
       "<style scoped>\n",
       "    .dataframe tbody tr th:only-of-type {\n",
       "        vertical-align: middle;\n",
       "    }\n",
       "\n",
       "    .dataframe tbody tr th {\n",
       "        vertical-align: top;\n",
       "    }\n",
       "\n",
       "    .dataframe thead th {\n",
       "        text-align: right;\n",
       "    }\n",
       "</style>\n",
       "<table border=\"1\" class=\"dataframe\">\n",
       "  <thead>\n",
       "    <tr style=\"text-align: right;\">\n",
       "      <th></th>\n",
       "      <th>review</th>\n",
       "      <th>sentiment</th>\n",
       "    </tr>\n",
       "  </thead>\n",
       "  <tbody>\n",
       "    <tr>\n",
       "      <th>0</th>\n",
       "      <td>One of the other reviewers has mentioned that ...</td>\n",
       "      <td>positive</td>\n",
       "    </tr>\n",
       "    <tr>\n",
       "      <th>1</th>\n",
       "      <td>A wonderful little production. &lt;br /&gt;&lt;br /&gt;The...</td>\n",
       "      <td>positive</td>\n",
       "    </tr>\n",
       "    <tr>\n",
       "      <th>2</th>\n",
       "      <td>I thought this was a wonderful way to spend ti...</td>\n",
       "      <td>positive</td>\n",
       "    </tr>\n",
       "    <tr>\n",
       "      <th>3</th>\n",
       "      <td>Basically there's a family where a little boy ...</td>\n",
       "      <td>negative</td>\n",
       "    </tr>\n",
       "    <tr>\n",
       "      <th>4</th>\n",
       "      <td>Petter Mattei's \"Love in the Time of Money\" is...</td>\n",
       "      <td>positive</td>\n",
       "    </tr>\n",
       "  </tbody>\n",
       "</table>\n",
       "</div>"
      ],
      "text/plain": [
       "                                              review sentiment\n",
       "0  One of the other reviewers has mentioned that ...  positive\n",
       "1  A wonderful little production. <br /><br />The...  positive\n",
       "2  I thought this was a wonderful way to spend ti...  positive\n",
       "3  Basically there's a family where a little boy ...  negative\n",
       "4  Petter Mattei's \"Love in the Time of Money\" is...  positive"
      ]
     },
     "execution_count": 15,
     "metadata": {},
     "output_type": "execute_result"
    }
   ],
   "source": [
    "df = pd.read_csv('../data/IMDB_Dataset.csv')\n",
    "df.head()"
   ]
  },
  {
   "cell_type": "code",
   "execution_count": 16,
   "id": "1a930e2d",
   "metadata": {},
   "outputs": [
    {
     "name": "stdout",
     "output_type": "stream",
     "text": [
      "sentiment\n",
      "1    25000\n",
      "0    25000\n",
      "Name: count, dtype: int64\n"
     ]
    }
   ],
   "source": [
    "y = df['sentiment'].map({'positive': 1, 'negative': 0})\n",
    "print(y.value_counts())"
   ]
  },
  {
   "cell_type": "code",
   "execution_count": 17,
   "id": "0347b937",
   "metadata": {},
   "outputs": [
    {
     "name": "stdout",
     "output_type": "stream",
     "text": [
      "df shape: (50000, 2)\n",
      "X shape: (50000, 101583)\n",
      "Vocabulary size: 101583\n"
     ]
    }
   ],
   "source": [
    "cv = CountVectorizer(stop_words=\"english\")\n",
    "X = cv.fit_transform(df['review'])\n",
    "\n",
    "print(\"df shape:\", df.shape)\n",
    "print(\"X shape:\", X.shape)\n",
    "\n",
    "print(\"Vocabulary size:\", len(cv.vocabulary_))"
   ]
  },
  {
   "cell_type": "code",
   "execution_count": 18,
   "id": "752a96f8",
   "metadata": {},
   "outputs": [
    {
     "name": "stdout",
     "output_type": "stream",
     "text": [
      "[[0 0 0 ... 0 0 0]\n",
      " [0 0 0 ... 0 0 0]\n",
      " [0 0 0 ... 0 0 0]\n",
      " [0 0 0 ... 0 0 0]\n",
      " [0 0 0 ... 0 0 0]]\n"
     ]
    }
   ],
   "source": [
    "print(X[:5].toarray())"
   ]
  },
  {
   "cell_type": "code",
   "execution_count": 19,
   "id": "5ba89a8b",
   "metadata": {},
   "outputs": [],
   "source": [
    "# Labels for confusion matrix\n",
    "# negative -> index 0, positive -> index 1\n",
    "labels_for_cm = [0, 1]\n",
    "target_names = ['ham', 'spam']"
   ]
  },
  {
   "cell_type": "code",
   "execution_count": 20,
   "id": "75a6ad46",
   "metadata": {},
   "outputs": [],
   "source": [
    "# Metrics\n",
    "metrics = ['accuracy', 'f1_macro']"
   ]
  },
  {
   "cell_type": "markdown",
   "id": "c646cdd4",
   "metadata": {},
   "source": [
    "### Multinomial Native Bayes (MultinomialNB)"
   ]
  },
  {
   "cell_type": "code",
   "execution_count": 21,
   "id": "c9bee827",
   "metadata": {},
   "outputs": [
    {
     "name": "stdout",
     "output_type": "stream",
     "text": [
      "  'fit_time': [0.02409792 0.02387977 0.02079988 0.02253795 0.02149606]\n",
      "  'score_time': [0.00528598 0.00532007 0.01057196 0.00533605 0.00491381]\n",
      "  'test_accuracy': [0.858  0.8616 0.8559 0.8534 0.8583]\n",
      "  'test_f1_macro': [0.85794088 0.86149449 0.85581203 0.85336056 0.85821489]\n"
     ]
    }
   ],
   "source": [
    "mnb = MultinomialNB()\n",
    "\n",
    "cv_results = cross_validate(\n",
    "    mnb, \n",
    "    X, \n",
    "    y, \n",
    "    cv=5, \n",
    "    scoring=metrics,\n",
    "    n_jobs=-1\n",
    ")\n",
    "\n",
    "for key, value in cv_results.items():\n",
    "    print(f\"  '{key}': {value}\")"
   ]
  },
  {
   "cell_type": "code",
   "execution_count": 22,
   "id": "5df4efb3",
   "metadata": {},
   "outputs": [
    {
     "name": "stdout",
     "output_type": "stream",
     "text": [
      "\n",
      "Czasy trenowania (fit_time) dla każdego foldu: [0.02409792 0.02387977 0.02079988 0.02253795 0.02149606]\n",
      "Średni czas trenowania: 0.0226 s +/- 0.0013 s\n",
      "\n",
      "Czasy testowania/oceny (score_time) dla każdego foldu: [0.00528598 0.00532007 0.01057196 0.00533605 0.00491381]\n",
      "Średni czas testowania: 0.0063 s +/- 0.0021 s\n",
      "\n",
      "Dokładność (accuracy) dla każdego foldu: [0.858  0.8616 0.8559 0.8534 0.8583]\n",
      "Średnia dokładność: 0.8574 +/- 0.0027\n",
      "\n",
      "F1-score (f1_macro) dla każdego foldu: [0.85794088 0.86149449 0.85581203 0.85336056 0.85821489]\n",
      "Średni F1-score (f1_macro): 0.8574 +/- 0.0027\n"
     ]
    }
   ],
   "source": [
    "print(f\"\\nCzasy trenowania (fit_time) dla każdego foldu: {cv_results['fit_time']}\")\n",
    "print(f\"Średni czas trenowania: {np.mean(cv_results['fit_time']):.4f} s +/- {np.std(cv_results['fit_time']):.4f} s\")\n",
    "\n",
    "print(f\"\\nCzasy testowania/oceny (score_time) dla każdego foldu: {cv_results['score_time']}\")\n",
    "print(f\"Średni czas testowania: {np.mean(cv_results['score_time']):.4f} s +/- {np.std(cv_results['score_time']):.4f} s\")\n",
    "\n",
    "accuracy_mnb_key = f\"test_{metrics[0]}\"\n",
    "print(f\"\\nDokładność (accuracy) dla każdego foldu: {cv_results[accuracy_mnb_key]}\")\n",
    "print(f\"Średnia dokładność: {np.mean(cv_results[accuracy_mnb_key]):.4f} +/- {np.std(cv_results[accuracy_mnb_key]):.4f}\")\n",
    "\n",
    "f1_mnb_key = f\"test_{metrics[1]}\"\n",
    "print(f\"\\nF1-score ({metrics[1]}) dla każdego foldu: {cv_results[f1_mnb_key]}\")\n",
    "print(f\"Średni F1-score ({metrics[1]}): {np.mean(cv_results[f1_mnb_key]):.4f} +/- {np.std(cv_results[f1_mnb_key]):.4f}\")"
   ]
  },
  {
   "cell_type": "markdown",
   "id": "4e3729a2",
   "metadata": {},
   "source": [
    "### K-Nearest Neighbors (KNN)"
   ]
  },
  {
   "cell_type": "code",
   "execution_count": 23,
   "id": "8791a639",
   "metadata": {},
   "outputs": [
    {
     "name": "stdout",
     "output_type": "stream",
     "text": [
      "  'fit_time': [0.01243019 0.01354504 0.01338482 0.01523566 0.02100086]\n",
      "  'score_time': [16.88444185 16.87247205 16.93097401 16.93297625 16.89775205]\n",
      "  'test_accuracy': [0.5898 0.5981 0.6003 0.6016 0.5907]\n",
      "  'test_f1_macro': [0.57943346 0.59215836 0.59748007 0.59562062 0.58167266]\n"
     ]
    }
   ],
   "source": [
    "knn = KNeighborsClassifier(n_neighbors=5)\n",
    "\n",
    "cv_results = cross_validate(\n",
    "    knn, \n",
    "    X, \n",
    "    y, \n",
    "    cv=5, \n",
    "    scoring=metrics,\n",
    "    n_jobs=-1\n",
    ")\n",
    "\n",
    "for key, value in cv_results.items():\n",
    "    print(f\"  '{key}': {value}\")"
   ]
  },
  {
   "cell_type": "code",
   "execution_count": 24,
   "id": "a469c0f8",
   "metadata": {},
   "outputs": [
    {
     "name": "stdout",
     "output_type": "stream",
     "text": [
      "\n",
      "Czasy trenowania (fit_time) dla każdego foldu: [0.01243019 0.01354504 0.01338482 0.01523566 0.02100086]\n",
      "Średni czas trenowania: 0.0151 s +/- 0.0031 s\n",
      "\n",
      "Czasy testowania/oceny (score_time) dla każdego foldu: [16.88444185 16.87247205 16.93097401 16.93297625 16.89775205]\n",
      "Średni czas testowania: 16.9037 s +/- 0.0244 s\n",
      "\n",
      "Dokładność (accuracy) dla każdego foldu: [0.5898 0.5981 0.6003 0.6016 0.5907]\n",
      "Średnia dokładność: 0.5961 +/- 0.0049\n",
      "\n",
      "F1-score (f1_macro) dla każdego foldu: [0.57943346 0.59215836 0.59748007 0.59562062 0.58167266]\n",
      "Średni F1-score (f1_macro): 0.5893 +/- 0.0074\n"
     ]
    }
   ],
   "source": [
    "print(f\"\\nCzasy trenowania (fit_time) dla każdego foldu: {cv_results['fit_time']}\")\n",
    "print(f\"Średni czas trenowania: {np.mean(cv_results['fit_time']):.4f} s +/- {np.std(cv_results['fit_time']):.4f} s\")\n",
    "\n",
    "print(f\"\\nCzasy testowania/oceny (score_time) dla każdego foldu: {cv_results['score_time']}\")\n",
    "print(f\"Średni czas testowania: {np.mean(cv_results['score_time']):.4f} s +/- {np.std(cv_results['score_time']):.4f} s\")\n",
    "\n",
    "accuracy_knn_key = f\"test_{metrics[0]}\"\n",
    "print(f\"\\nDokładność (accuracy) dla każdego foldu: {cv_results[accuracy_knn_key]}\")\n",
    "print(f\"Średnia dokładność: {np.mean(cv_results[accuracy_knn_key]):.4f} +/- {np.std(cv_results[accuracy_knn_key]):.4f}\")\n",
    "\n",
    "f1_knn_key = f\"test_{metrics[1]}\"\n",
    "print(f\"\\nF1-score ({metrics[1]}) dla każdego foldu: {cv_results[f1_knn_key]}\")\n",
    "print(f\"Średni F1-score ({metrics[1]}): {np.mean(cv_results[f1_knn_key]):.4f} +/- {np.std(cv_results[f1_knn_key]):.4f}\")"
   ]
  },
  {
   "cell_type": "markdown",
   "id": "cf197cb9",
   "metadata": {},
   "source": [
    "### Logistic Regression"
   ]
  },
  {
   "cell_type": "code",
   "execution_count": 25,
   "id": "248c3db8",
   "metadata": {},
   "outputs": [
    {
     "name": "stdout",
     "output_type": "stream",
     "text": [
      "  'fit_time': [2.84814906 2.62763095 2.70806909 2.39779568 2.86651611]\n",
      "  'score_time': [0.00398517 0.00285792 0.00317192 0.0032661  0.00335693]\n",
      "  'test_accuracy': [0.8887 0.8823 0.8854 0.8809 0.8868]\n",
      "  'test_f1_macro': [0.888695   0.88229644 0.88539641 0.88088785 0.88679984]\n"
     ]
    }
   ],
   "source": [
    "lr = LogisticRegression(max_iter=1000, solver='liblinear')\n",
    "\n",
    "cv_results = cross_validate(\n",
    "    lr, \n",
    "    X, \n",
    "    y, \n",
    "    cv=5, \n",
    "    scoring=metrics,\n",
    "    n_jobs=-1\n",
    ")\n",
    "\n",
    "for key, value in cv_results.items():\n",
    "    print(f\"  '{key}': {value}\")"
   ]
  },
  {
   "cell_type": "code",
   "execution_count": 26,
   "id": "938d2ec8",
   "metadata": {},
   "outputs": [
    {
     "name": "stdout",
     "output_type": "stream",
     "text": [
      "\n",
      "Czasy trenowania (fit_time) dla każdego foldu: [2.84814906 2.62763095 2.70806909 2.39779568 2.86651611]\n",
      "Średni czas trenowania: 2.6896 s +/- 0.1707 s\n",
      "\n",
      "Czasy testowania/oceny (score_time) dla każdego foldu: [0.00398517 0.00285792 0.00317192 0.0032661  0.00335693]\n",
      "Średni czas testowania: 0.0033 s +/- 0.0004 s\n",
      "\n",
      "Dokładność (accuracy) dla każdego foldu: [0.8887 0.8823 0.8854 0.8809 0.8868]\n",
      "Średnia dokładność: 0.8848 +/- 0.0029\n",
      "\n",
      "F1-score (f1_macro) dla każdego foldu: [0.888695   0.88229644 0.88539641 0.88088785 0.88679984]\n",
      "Średni F1-score (f1_macro): 0.8848 +/- 0.0029\n"
     ]
    }
   ],
   "source": [
    "print(f\"\\nCzasy trenowania (fit_time) dla każdego foldu: {cv_results['fit_time']}\")\n",
    "print(f\"Średni czas trenowania: {np.mean(cv_results['fit_time']):.4f} s +/- {np.std(cv_results['fit_time']):.4f} s\")\n",
    "\n",
    "print(f\"\\nCzasy testowania/oceny (score_time) dla każdego foldu: {cv_results['score_time']}\")\n",
    "print(f\"Średni czas testowania: {np.mean(cv_results['score_time']):.4f} s +/- {np.std(cv_results['score_time']):.4f} s\")\n",
    "\n",
    "accuracy_lr_key = f\"test_{metrics[0]}\"\n",
    "print(f\"\\nDokładność (accuracy) dla każdego foldu: {cv_results[accuracy_lr_key]}\")\n",
    "print(f\"Średnia dokładność: {np.mean(cv_results[accuracy_lr_key]):.4f} +/- {np.std(cv_results[accuracy_lr_key]):.4f}\")\n",
    "\n",
    "f1_lr_key = f\"test_{metrics[1]}\"\n",
    "print(f\"\\nF1-score ({metrics[1]}) dla każdego foldu: {cv_results[f1_lr_key]}\")\n",
    "print(f\"Średni F1-score ({metrics[1]}): {np.mean(cv_results[f1_lr_key]):.4f} +/- {np.std(cv_results[f1_lr_key]):.4f}\")"
   ]
  }
 ],
 "metadata": {
  "kernelspec": {
   "display_name": ".venv",
   "language": "python",
   "name": "python3"
  },
  "language_info": {
   "codemirror_mode": {
    "name": "ipython",
    "version": 3
   },
   "file_extension": ".py",
   "mimetype": "text/x-python",
   "name": "python",
   "nbconvert_exporter": "python",
   "pygments_lexer": "ipython3",
   "version": "3.11.11"
  }
 },
 "nbformat": 4,
 "nbformat_minor": 5
}
