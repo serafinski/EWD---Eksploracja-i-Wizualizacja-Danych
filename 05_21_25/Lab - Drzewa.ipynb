{
 "cells": [
  {
   "cell_type": "markdown",
   "id": "71bea0a1-71ab-433b-b538-5abaa4697877",
   "metadata": {},
   "source": [
    "# Lab - Drzewa\n",
    "\n",
    "## Zadania\n",
    "\n",
    "1. Wczytaj zbiór `Carseats.csv`. Usuń kolumnę `Sales` i zastąp ją zmienną kategoryczną `SalesHigh`, która przyjmie wartość `Yes`, jeśli `Sales >= 8` i `No` w przeciwnym przypadku. Użyj drzew decyzyjnych do predykcji wartości `SalesHigh` na podstawie pozostałych zmiennych.\n",
    "    - Podziel dane na zbiór treningowy i testowy. Ze zbioru treningowego wydziel dodatkowo zbiór walidacyjny lub stosuj walidację krzyżową.\n",
    "    - Stwórz model [`DecisionTreeClassifier`](https://scikit-learn.org/stable/modules/generated/sklearn.tree.DecisionTreeClassifier.html). \n",
    "    - Zmniejsz rozmiar drzewa stosując 'przycinanie' (pruning). Wygeneruj wartości `ccp_alpha` metodą `cost_complexity_pruning_path()`. Użyj zbioru walidacyjnego lub walidacji krzyżowej (np. [`GridSearchCV`](https://scikit-learn.org/stable/modules/generated/sklearn.model_selection.GridSearchCV.html)) aby znaleźć najlepszą wartość. Zobacz, jak to zrobić w dokumentacji: https://scikit-learn.org/stable/auto_examples/tree/plot_cost_complexity_pruning.html\n",
    "    - Porównaj modele przed i po przycinaniu. Jak wpłynęło na jakość predykcji? Jak zmienił się rozmiar drzewa (sprawdź metodami `get_depth()`, `get_n_leaves()`)?\n",
    "    - Sprawdź jaki wpływ na jakość predykcji ma regulowanie rozmiaru drzewa, np. parametrami `max_depth`, `max_leaf_nodes`.\n",
    "    - Stwórz model [`RandomForestClassifier`](https://scikit-learn.org/stable/modules/generated/sklearn.ensemble.RandomForestClassifier.html) i porównaj go z wcześniej tworzonymi modelami.\n",
    "    - Wybierz najlepsze ze stworzonych drzew decyzyjnych, biorąc pod uwagę zarówno jakość predykcji, jak i rozmiar drzewa. Wizualizuj drzewo metodą [`plot_tree()`](https://scikit-learn.org/stable/modules/generated/sklearn.tree.plot_tree.html). Dokonaj ewaluacji korzystając ze zbioru testowego.\n",
    "2. Zastosuj modele [`DecisionTreeRegressor`](https://scikit-learn.org/stable/modules/generated/sklearn.tree.DecisionTreeRegressor.html) i [`RandomForestRegressor`](https://scikit-learn.org/stable/modules/generated/sklearn.ensemble.RandomForestRegressor.html) do przewidywania wartości `medv` na podstawie pozostałych zmiennych w zbiorze `boston.csv`. Wykonaj kroki analogiczne do Zadania 1."
   ]
  }
 ],
 "metadata": {
  "kernelspec": {
   "display_name": "Python 3 (ipykernel)",
   "language": "python",
   "name": "python3"
  },
  "language_info": {
   "codemirror_mode": {
    "name": "ipython",
    "version": 3
   },
   "file_extension": ".py",
   "mimetype": "text/x-python",
   "name": "python",
   "nbconvert_exporter": "python",
   "pygments_lexer": "ipython3",
   "version": "3.9.16"
  }
 },
 "nbformat": 4,
 "nbformat_minor": 5
}
