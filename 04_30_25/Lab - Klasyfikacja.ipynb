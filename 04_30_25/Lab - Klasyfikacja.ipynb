{
 "cells": [
  {
   "cell_type": "markdown",
   "id": "951c993e",
   "metadata": {},
   "source": [
    "# Lab - Klasyfikacja\n",
    "\n",
    "## Zadania\n",
    "\n",
    "1. Wczytaj zbiór `diabetes.csv`. Przygotuj dane do modelowania (podziel na zbiór treningowy, walidacyjny i testowy, następnie skaluj). \n",
    "Stwórz modele wykrywające przypadki cukrzycy (kolumna `Outcome`): \n",
    "    - [`LogisticRegression`](https://scikit-learn.org/stable/modules/generated/sklearn.linear_model.LogisticRegression.html),\n",
    "    - [`GaussianNB`](https://scikit-learn.org/stable/modules/generated/sklearn.naive_bayes.GaussianNB.html),\n",
    "    - [`LinearDiscriminantAnalysis`](https://scikit-learn.org/stable/modules/generated/sklearn.discriminant_analysis.LinearDiscriminantAnalysis.html),\n",
    "    - [`QuadraticDiscriminantAnalysis`](https://scikit-learn.org/stable/modules/generated/sklearn.discriminant_analysis.QuadraticDiscriminantAnalysis.html).\n",
    "\n",
    "    Wykorzystaj zbiór walidacyjny do porównania modeli stosując dokładność, precyzję, pełność, F-miarę. Wykorzystaj zbiór testowy do ewaluacji najlepszego modelu. \n",
    "\n",
    "2. Klasyfikuj grzyby ze zbioru `agaricus-lepiota.data` jako trujące (`p` - *poisonous*) lub jadalne (`e` - *edible*) za pomocą [`CategoricalNB`](https://scikit-learn.org/stable/modules/generated/sklearn.naive_bayes.CategoricalNB.html).\n",
    "    - Brakujące wartości zapisane są w zbiorze jako `?` (wczytując dane podaj `na_values='?'`). Usuń wiersze zawierające brakujące wartości (`dropna(axis='rows')`).\n",
    "    - Dane wejściowe (`X`) koduj jako 0,1,2,... przy użyciu [`OrdinalEncoder`](https://scikit-learn.org/stable/modules/generated/sklearn.preprocessing.OrdinalEncoder.html).\n",
    "    - Podziel dane na zbiór treningowy i testowy. Wypisz macierz omyłek oraz dokładność i F-miarę dla zbioru testowego. "
   ]
  }
 ],
 "metadata": {
  "language_info": {
   "name": "python"
  }
 },
 "nbformat": 4,
 "nbformat_minor": 5
}
