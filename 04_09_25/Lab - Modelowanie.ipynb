{
 "cells": [
  {
   "cell_type": "markdown",
   "id": "89aa6db1-4a62-4736-a2cb-9341c626995b",
   "metadata": {},
   "source": [
    "# Modelowanie w `scikit-learn`\n",
    "## Dzielenie danych na zbiór treningowy i testowy"
   ]
  },
  {
   "cell_type": "code",
   "execution_count": 6,
   "id": "e4f5f35f-d618-4ce4-a68a-db120f55c6f7",
   "metadata": {},
   "outputs": [],
   "source": [
    "import pandas as pd\n",
    "from sklearn.model_selection import train_test_split\n",
    "from sklearn.preprocessing import StandardScaler\n",
    "from sklearn.neighbors import KNeighborsClassifier\n",
    "from sklearn.metrics import classification_report\n",
    "\n",
    "iris = pd.read_csv(\"data/iris.csv\")\n",
    "X = iris.drop(columns=\"variety\")\n",
    "y = iris.variety\n",
    "\n",
    "X_train_full, X_test, y_train_full, y_test = train_test_split(X, y, test_size=0.2, random_state=1)\n",
    "X_train, X_valid, y_train, y_valid = train_test_split(X_train_full, y_train_full, test_size=0.25, random_state=2)"
   ]
  },
  {
   "cell_type": "markdown",
   "id": "ea5e0881",
   "metadata": {},
   "source": [
    "## Skalowanie danych"
   ]
  },
  {
   "cell_type": "code",
   "execution_count": 7,
   "id": "d165a94b",
   "metadata": {},
   "outputs": [],
   "source": [
    "scaler = StandardScaler()\n",
    "X_train = scaler.fit_transform(X_train)\n",
    "X_valid = scaler.transform(X_valid)\n",
    "X_test = scaler.transform(X_test)"
   ]
  },
  {
   "cell_type": "markdown",
   "id": "51919592-0488-4e7a-855d-b93d39ffbf96",
   "metadata": {},
   "source": [
    "## Tworzenie modelu i testowanie"
   ]
  },
  {
   "cell_type": "code",
   "execution_count": 8,
   "id": "0fed6d62-5a89-4cf0-b9ea-55dd1607a011",
   "metadata": {},
   "outputs": [
    {
     "name": "stdout",
     "output_type": "stream",
     "text": [
      "              precision    recall  f1-score   support\n",
      "\n",
      "      Setosa       1.00      1.00      1.00         7\n",
      "  Versicolor       1.00      0.83      0.91        12\n",
      "   Virginica       0.85      1.00      0.92        11\n",
      "\n",
      "    accuracy                           0.93        30\n",
      "   macro avg       0.95      0.94      0.94        30\n",
      "weighted avg       0.94      0.93      0.93        30\n",
      "\n"
     ]
    }
   ],
   "source": [
    "knn = KNeighborsClassifier(n_neighbors=5)\n",
    "knn.fit(X_train, y_train)\n",
    "\n",
    "y_pred = knn.predict(X_valid)\n",
    "\n",
    "print(classification_report(y_valid, y_pred))"
   ]
  },
  {
   "cell_type": "markdown",
   "id": "2afb1e7f-72b1-432d-a386-8f8ab8d5240e",
   "metadata": {},
   "source": [
    "## Zadania\n",
    "1. (ZADANIE MATEMATYCZNE) Przypisz następujące przykłady do klasy A lub B przy użyciu metody k-NN z k=3. \n",
    "    - Zbiór treningowy: A(1, 3), A(2, 1), A(2, 3), B(4, 3), B(6, 3).\n",
    "    - Przykłady do zaklasyfikowania: (1, 5), (5, 1), (2, 6), (3, 4).\n",
    "2. Klasyfikuj przypadki ze zbioru `wdbc.data` jako `M` - *malignant* lub `B` - *benign*.\n",
    "    - Podziel dane na zbiór treningowy i testowy. Ze zbioru treningowego wydziel dodatkowo zbiór walidacyjny.\n",
    "    - Użyj k-NN do klasyfikacji przykładów ze zbioru walidacyjnego na podstawie pozostałych danych treningowych i wypisz dokładność, precyzję, pełność, F-miarę (zob. [metrics](https://scikit-learn.org/stable/modules/classes.html#classification-metrics), [classification_report](https://scikit-learn.org/stable/modules/generated/sklearn.metrics.classification_report.html)). Warto wypisać też macierz omyłek ([`confusion_matrix`](https://scikit-learn.org/stable/modules/generated/sklearn.metrics.confusion_matrix.html)).\n",
    "    - Sprawdź, jaki wpływ na dokładność ma skalowanie danych. Pamiętaj, że skalować należy także dane walidacyjne/testowe.\n",
    "    - Stwórz wykres zależności dokładności od k. Skorzystaj ze zbioru walidacyjnego.\n",
    "    - Wybierz najlepszy model i podaj jego dokładność dla danych testowych.\n",
    "3. Wykorzystaj `KNeighborsRegressor` do predykcji cen domów (`medv`) ze zbioru `boston`. Wykonaj kroki analogicznie jak w Zadaniu 2. Do ewaluacji modelu można stosować np. miarę MSE (zob. [mean_squared_error](https://scikit-learn.org/stable/modules/generated/sklearn.metrics.mean_squared_error.html))."
   ]
  }
 ],
 "metadata": {
  "kernelspec": {
   "display_name": ".venv",
   "language": "python",
   "name": "python3"
  },
  "language_info": {
   "codemirror_mode": {
    "name": "ipython",
    "version": 3
   },
   "file_extension": ".py",
   "mimetype": "text/x-python",
   "name": "python",
   "nbconvert_exporter": "python",
   "pygments_lexer": "ipython3",
   "version": "3.11.11"
  }
 },
 "nbformat": 4,
 "nbformat_minor": 5
}
