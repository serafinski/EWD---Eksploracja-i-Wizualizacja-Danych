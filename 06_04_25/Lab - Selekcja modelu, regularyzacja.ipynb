{
 "cells": [
  {
   "cell_type": "markdown",
   "id": "da33faaa-0400-4e9f-9e25-c28b00cf92fc",
   "metadata": {},
   "source": [
    "# Selekcja modelu, regularyzacja\n",
    "\n",
    "## Zadania\n",
    "1. Wczytaj zbiór `Hitters.csv`. Wybierz najlepszy model liniowy dla predykcji `Salary` na podstawie pozostałych zmiennych metodą *forward/backward selection*. \n",
    "    - Ignoruj kolumnę `PlayerName`. Usuń wiersze zawierające brakujące dane. \n",
    "    - Koduj zmienne kategoryczne metodą [`get_dummies()`](https://pandas.pydata.org/docs/reference/api/pandas.get_dummies.html).\n",
    "    - Standaryzuj dane wejściowe (X) ([`StandardScaler`](https://scikit-learn.org/stable/modules/generated/sklearn.preprocessing.StandardScaler.html)/[`scale()`](https://scikit-learn.org/stable/modules/generated/sklearn.preprocessing.scale.html)).\n",
    "    - Podziel dane na zbiór treningowy i testowy.\n",
    "    - Selekcji można dokonać manualnie, porównując kolejne modele za pomocą walidacji krzyżowej, lub za pomocą [`SequentialFeatureSelector`](https://scikit-learn.org/stable/modules/generated/sklearn.feature_selection.SequentialFeatureSelector.html).\n",
    "    - Podaj MSE najlepszego modelu na danych testowych. \n",
    "2. Dla danych przygotowanych w Zadaniu 1. stwórz modele [`Ridge`](https://scikit-learn.org/stable/modules/generated/sklearn.linear_model.Ridge.html) i [`Lasso`](https://scikit-learn.org/stable/modules/generated/sklearn.linear_model.Lasso.html).\n",
    "    - Użyj walidacji krzyżowej, aby wybrać najlepszą wartość parametru `alpha`. Użyj [`GridSearchCV`](https://scikit-learn.org/stable/modules/generated/sklearn.model_selection.GridSearchCV.html) lub [`RidgeCV`](https://scikit-learn.org/stable/modules/generated/sklearn.linear_model.RidgeCV.html)/[`LassoCV`](https://scikit-learn.org/stable/modules/generated/sklearn.linear_model.LassoCV.html).\n",
    "    - Stwórz wykres zależności MSE od `alpha` dla obu metod (Użycie skali logarytmicznej dla `alpha` może zwiększyć czytelność wykresu).\n",
    "    - (Opcjonalnie) stwórz wykres zależności współczynników modelu od `alpha` dla obu metod.\n",
    "    - Podaj MSE najlepszego modelu na danych testowych dla obu metod.\n",
    "    - Porównaj podzbiór zmiennych wchodzących w skład modelu stworzonego przez `Lasso` z podzbiorem wybranym w Zadaniu 1.\n",
    "3. Klasyfikuj dane ze zbioru `wdbc.data` za pomocą [`LogisticRegression`](https://scikit-learn.org/stable/modules/generated/sklearn.linear_model.LogisticRegression.html). Użyj walidacji krzyżowej, aby dobrać `C` (parametr określający poziom regularyzacji) i metodę regularyzacji `l1`/`l2`.\n",
    "    - Skaluj dane i podziel je na zbiór treningowy i testowy.\n",
    "    - Użyj `GridSearchCV` lub [`LogisticRegressionCV`](https://scikit-learn.org/stable/modules/generated/sklearn.linear_model.LogisticRegressionCV.html), aby wybrać najlepszy model.\n",
    "    - Stwórz wykres zależności dokładności od `alpha` dla obu metod regularyzacji (`l1`/`l2`).\n",
    "    - Podaj dokładność klasyfikacji danych testowych dla najlepszego modelu."
   ]
  }
 ],
 "metadata": {
  "kernelspec": {
   "display_name": "Python 3 (ipykernel)",
   "language": "python",
   "name": "python3"
  },
  "language_info": {
   "codemirror_mode": {
    "name": "ipython",
    "version": 3
   },
   "file_extension": ".py",
   "mimetype": "text/x-python",
   "name": "python",
   "nbconvert_exporter": "python",
   "pygments_lexer": "ipython3",
   "version": "3.9.16"
  }
 },
 "nbformat": 4,
 "nbformat_minor": 5
}
