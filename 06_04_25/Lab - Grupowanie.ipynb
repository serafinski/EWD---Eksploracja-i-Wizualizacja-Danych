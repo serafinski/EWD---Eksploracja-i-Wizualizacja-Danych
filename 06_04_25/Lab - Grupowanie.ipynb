{
 "cells": [
  {
   "cell_type": "markdown",
   "id": "b3679033",
   "metadata": {},
   "source": [
    "# Lab - Grupowanie\n",
    "\n",
    "1. Wczytaj zbiór w `housing.csv`. Usuń wiersze zawierające brakujące wartości. Koduj zmienne kategoryczne metodą `get_dummies()`. Skaluj dane.\n",
    "    - Użyj [`KMeans()`](https://scikit-learn.org/stable/modules/generated/sklearn.cluster.KMeans.html) do grupowania zbioru.\n",
    "    - Stwórz wykres zależności WCSS (atrybut `inertia_`) od `n_clusters`. Na podstawie wykresu wybierz odpowiednią liczbę grup.\n",
    "    - Wizualizuj dane po grupowaniu. Stwórz na przykład wykres punktowy z `longitude` na osi x i `latitude` na osi y, gdzie kolor reprezentuje indeks grupy (dostępny w `labels_`).\n",
    "    - Grupuj zbiór przy pomocy [AgglomerativeClustering()](https://scikit-learn.org/stable/modules/generated/sklearn.cluster.AgglomerativeClustering.html). Liczbę grup reguluje parametr `n_clusters` lub `distance_threshold`. Porównaj wizualnie grupowania stworzone przez k-means i grupowanie aglomeracyjne.\n"
   ]
  }
 ],
 "metadata": {
  "kernelspec": {
   "display_name": "Python 3 (ipykernel)",
   "language": "python",
   "name": "python3"
  },
  "language_info": {
   "codemirror_mode": {
    "name": "ipython",
    "version": 3
   },
   "file_extension": ".py",
   "mimetype": "text/x-python",
   "name": "python",
   "nbconvert_exporter": "python",
   "pygments_lexer": "ipython3",
   "version": "3.10.9"
  }
 },
 "nbformat": 4,
 "nbformat_minor": 5
}
