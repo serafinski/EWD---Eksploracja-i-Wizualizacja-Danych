{
 "cells": [
  {
   "cell_type": "markdown",
   "id": "960cd041",
   "metadata": {},
   "source": [
    "Klasyfikuj dane ze zbioru `wdbc.data` za pomocą [`LogisticRegression`](https://scikit-learn.org/stable/modules/generated/sklearn.linear_model.LogisticRegression.html). Użyj walidacji krzyżowej, aby dobrać `C` (parametr określający poziom regularyzacji) i metodę regularyzacji `l1`/`l2`.\n",
    "- Skaluj dane i podziel je na zbiór treningowy i testowy.\n",
    "- Użyj `GridSearchCV` lub [`LogisticRegressionCV`](https://scikit-learn.org/stable/modules/generated/sklearn.linear_model.LogisticRegressionCV.html), aby wybrać najlepszy model.\n",
    "- Stwórz wykres zależności dokładności od `alpha` dla obu metod regularyzacji (`l1`/`l2`).\n",
    "- Podaj dokładność klasyfikacji danych testowych dla najlepszego modelu."
   ]
  }
 ],
 "metadata": {
  "language_info": {
   "name": "python"
  }
 },
 "nbformat": 4,
 "nbformat_minor": 5
}
