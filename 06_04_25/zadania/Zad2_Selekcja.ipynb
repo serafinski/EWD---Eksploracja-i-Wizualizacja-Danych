{
 "cells": [
  {
   "cell_type": "markdown",
   "id": "9b682ef9",
   "metadata": {},
   "source": [
    "Dla danych przygotowanych w Zadaniu 1. stwórz modele [`Ridge`](https://scikit-learn.org/stable/modules/generated/sklearn.linear_model.Ridge.html) i [`Lasso`](https://scikit-learn.org/stable/modules/generated/sklearn.linear_model.Lasso.html).\n",
    "- Użyj walidacji krzyżowej, aby wybrać najlepszą wartość parametru `alpha`. Użyj [`GridSearchCV`](https://scikit-learn.org/stable/modules/generated/sklearn.model_selection.GridSearchCV.html) lub [`RidgeCV`](https://scikit-learn.org/stable/modules/generated/sklearn.linear_model.RidgeCV.html)/[`LassoCV`](https://scikit-learn.org/stable/modules/generated/sklearn.linear_model.LassoCV.html).\n",
    "- Stwórz wykres zależności MSE od `alpha` dla obu metod (Użycie skali logarytmicznej dla `alpha` może zwiększyć czytelność wykresu).\n",
    "- (Opcjonalnie) stwórz wykres zależności współczynników modelu od `alpha` dla obu metod.\n",
    "- Podaj MSE najlepszego modelu na danych testowych dla obu metod.\n",
    "- Porównaj podzbiór zmiennych wchodzących w skład modelu stworzonego przez `Lasso` z podzbiorem wybranym w Zadaniu 1."
   ]
  }
 ],
 "metadata": {
  "language_info": {
   "name": "python"
  }
 },
 "nbformat": 4,
 "nbformat_minor": 5
}
