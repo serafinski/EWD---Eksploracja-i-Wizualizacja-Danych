{
 "cells": [
  {
   "cell_type": "markdown",
   "id": "f6016d14",
   "metadata": {},
   "source": [
    "Wczytaj zbiór `Hitters.csv`. Wybierz najlepszy model liniowy dla predykcji `Salary` na podstawie pozostałych zmiennych metodą *forward/backward selection*. \n",
    "- Ignoruj kolumnę `PlayerName`. Usuń wiersze zawierające brakujące dane. \n",
    "- Koduj zmienne kategoryczne metodą [`get_dummies()`](https://pandas.pydata.org/docs/reference/api/pandas.get_dummies.html).\n",
    "- Standaryzuj dane wejściowe (X) ([`StandardScaler`](https://scikit-learn.org/stable/modules/generated/sklearn.preprocessing.StandardScaler.html)/[`scale()`](https://scikit-learn.org/stable/modules/generated/sklearn.preprocessing.scale.html)).\n",
    "- Podziel dane na zbiór treningowy i testowy.\n",
    "- Selekcji można dokonać manualnie, porównując kolejne modele za pomocą walidacji krzyżowej, lub za pomocą [`SequentialFeatureSelector`](https://scikit-learn.org/stable/modules/generated/sklearn.feature_selection.SequentialFeatureSelector.html).\n",
    "- Podaj MSE najlepszego modelu na danych testowych. "
   ]
  }
 ],
 "metadata": {
  "language_info": {
   "name": "python"
  }
 },
 "nbformat": 4,
 "nbformat_minor": 5
}
